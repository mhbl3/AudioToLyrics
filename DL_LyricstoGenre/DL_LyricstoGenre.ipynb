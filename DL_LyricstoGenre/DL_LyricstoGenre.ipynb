{
  "nbformat": 4,
  "nbformat_minor": 0,
  "metadata": {
    "colab": {
      "name": "DL_LyricstoGenre.ipynb",
      "provenance": [],
      "collapsed_sections": []
    },
    "kernelspec": {
      "display_name": "Python 3",
      "name": "python3"
    }
  },
  "cells": [
    {
      "cell_type": "code",
      "metadata": {
        "id": "xOSeqn5JNd8j",
        "colab": {
          "base_uri": "https://localhost:8080/"
        },
        "outputId": "f664c284-ecac-4e5c-e790-da9ea4f6a1a0"
      },
      "source": [
        "from google.colab import drive\n",
        "drive.mount('/content/drive')"
      ],
      "execution_count": null,
      "outputs": [
        {
          "output_type": "stream",
          "text": [
            "Drive already mounted at /content/drive; to attempt to forcibly remount, call drive.mount(\"/content/drive\", force_remount=True).\n"
          ],
          "name": "stdout"
        }
      ]
    },
    {
      "cell_type": "code",
      "metadata": {
        "id": "ST6SuKziPK4T"
      },
      "source": [
        "import pandas as pd\n",
        "import numpy as np"
      ],
      "execution_count": null,
      "outputs": []
    },
    {
      "cell_type": "code",
      "metadata": {
        "id": "YfnxSw0gO--D",
        "colab": {
          "base_uri": "https://localhost:8080/",
          "height": 306
        },
        "outputId": "394a876f-59ed-445f-b653-c5bb66e955b9"
      },
      "source": [
        "df = pd.read_csv(\"dataset/english_cleaned_lyrics.csv\")\n",
        "df.head()"
      ],
      "execution_count": null,
      "outputs": [
        {
          "output_type": "execute_result",
          "data": {
            "text/html": [
              "<div>\n",
              "<style scoped>\n",
              "    .dataframe tbody tr th:only-of-type {\n",
              "        vertical-align: middle;\n",
              "    }\n",
              "\n",
              "    .dataframe tbody tr th {\n",
              "        vertical-align: top;\n",
              "    }\n",
              "\n",
              "    .dataframe thead th {\n",
              "        text-align: right;\n",
              "    }\n",
              "</style>\n",
              "<table border=\"1\" class=\"dataframe\">\n",
              "  <thead>\n",
              "    <tr style=\"text-align: right;\">\n",
              "      <th></th>\n",
              "      <th>Unnamed: 0</th>\n",
              "      <th>index</th>\n",
              "      <th>song</th>\n",
              "      <th>year</th>\n",
              "      <th>artist</th>\n",
              "      <th>genre</th>\n",
              "      <th>lyrics</th>\n",
              "    </tr>\n",
              "  </thead>\n",
              "  <tbody>\n",
              "    <tr>\n",
              "      <th>0</th>\n",
              "      <td>0</td>\n",
              "      <td>0</td>\n",
              "      <td>ego-remix</td>\n",
              "      <td>2009</td>\n",
              "      <td>beyonce-knowles</td>\n",
              "      <td>Pop</td>\n",
              "      <td>Oh baby how you doing You know I'm gonna cut r...</td>\n",
              "    </tr>\n",
              "    <tr>\n",
              "      <th>1</th>\n",
              "      <td>1</td>\n",
              "      <td>1</td>\n",
              "      <td>then-tell-me</td>\n",
              "      <td>2009</td>\n",
              "      <td>beyonce-knowles</td>\n",
              "      <td>Pop</td>\n",
              "      <td>playin everything so easy it's like you seem s...</td>\n",
              "    </tr>\n",
              "    <tr>\n",
              "      <th>2</th>\n",
              "      <td>2</td>\n",
              "      <td>2</td>\n",
              "      <td>honesty</td>\n",
              "      <td>2009</td>\n",
              "      <td>beyonce-knowles</td>\n",
              "      <td>Pop</td>\n",
              "      <td>If you search For tenderness It isn't hard to ...</td>\n",
              "    </tr>\n",
              "    <tr>\n",
              "      <th>3</th>\n",
              "      <td>3</td>\n",
              "      <td>3</td>\n",
              "      <td>you-are-my-rock</td>\n",
              "      <td>2009</td>\n",
              "      <td>beyonce-knowles</td>\n",
              "      <td>Pop</td>\n",
              "      <td>Oh oh oh I oh oh oh I If I wrote a book about ...</td>\n",
              "    </tr>\n",
              "    <tr>\n",
              "      <th>4</th>\n",
              "      <td>4</td>\n",
              "      <td>4</td>\n",
              "      <td>black-culture</td>\n",
              "      <td>2009</td>\n",
              "      <td>beyonce-knowles</td>\n",
              "      <td>Pop</td>\n",
              "      <td>Party the people the people the party it's pop...</td>\n",
              "    </tr>\n",
              "  </tbody>\n",
              "</table>\n",
              "</div>"
            ],
            "text/plain": [
              "   Unnamed: 0  index  ... genre                                             lyrics\n",
              "0           0      0  ...   Pop  Oh baby how you doing You know I'm gonna cut r...\n",
              "1           1      1  ...   Pop  playin everything so easy it's like you seem s...\n",
              "2           2      2  ...   Pop  If you search For tenderness It isn't hard to ...\n",
              "3           3      3  ...   Pop  Oh oh oh I oh oh oh I If I wrote a book about ...\n",
              "4           4      4  ...   Pop  Party the people the people the party it's pop...\n",
              "\n",
              "[5 rows x 7 columns]"
            ]
          },
          "metadata": {
            "tags": []
          },
          "execution_count": 22
        }
      ]
    },
    {
      "cell_type": "code",
      "metadata": {
        "id": "fgy1Ov9GYKLt"
      },
      "source": [
        "# %cd /content/drive/My\\ Drive/DL_Project/classifier/SongGenreClassification/dataset\n",
        "# !pwd\n",
        "# !unzip english_cleaned_lyrics.zip\n"
      ],
      "execution_count": null,
      "outputs": []
    },
    {
      "cell_type": "code",
      "metadata": {
        "id": "PBJcNpJOsQNI"
      },
      "source": [
        "import numpy as np\n",
        "import pandas as pd\n",
        "import string\n",
        "import tensorflow as tf\n",
        "import keras\n",
        "from keras.datasets import imdb\n",
        "from keras.models import Sequential\n",
        "from keras.layers import Dense\n",
        "from keras.layers import LSTM\n",
        "from keras.layers import GlobalMaxPooling1D\n",
        "from keras.layers.embeddings import Embedding\n",
        "from keras.preprocessing import sequence, text\n",
        "import json\n",
        "import sklearn\n",
        "from sklearn import preprocessing as skpp\n",
        "from sklearn.metrics import confusion_matrix, plot_confusion_matrix\n",
        "from sklearn import metrics\n",
        "import seaborn as sns\n",
        "import matplotlib.pyplot as plt"
      ],
      "execution_count": null,
      "outputs": []
    },
    {
      "cell_type": "code",
      "metadata": {
        "id": "8eQkkLXQxf0J"
      },
      "source": [
        "# English-only pre-processed song lyrics\n",
        "data = pd.read_csv(\"dataset/english_cleaned_lyrics.csv\")\n",
        "data.head()\n",
        "\n",
        "def readData(file) :\n",
        "  data = pd.read_csv(file)\n",
        "  data.head()\n",
        "  return data\n"
      ],
      "execution_count": null,
      "outputs": []
    },
    {
      "cell_type": "code",
      "metadata": {
        "id": "YCEdl9MBx_HA",
        "colab": {
          "base_uri": "https://localhost:8080/",
          "height": 358
        },
        "outputId": "e04f2756-95ff-46d1-e56b-ac063be5c964"
      },
      "source": [
        "data_filter = data.loc[(data['genre'] == 'Country') | (data['genre'] == \"Hip-Hop\")] #filter to keep Country and Hip Hop Songs\n",
        "display(data_filter.head())\n",
        "print(\"Size of data\", data_filter.shape)\n",
        "\n",
        "print(\"Size of country data\", (data_filter.loc[(data_filter['genre'] == 'Country')]).shape)\n",
        "\n",
        "print(\"Size of hip hop data\", (data_filter.loc[(data_filter['genre'] == 'Hip-Hop')]).shape)"
      ],
      "execution_count": null,
      "outputs": [
        {
          "output_type": "display_data",
          "data": {
            "text/html": [
              "<div>\n",
              "<style scoped>\n",
              "    .dataframe tbody tr th:only-of-type {\n",
              "        vertical-align: middle;\n",
              "    }\n",
              "\n",
              "    .dataframe tbody tr th {\n",
              "        vertical-align: top;\n",
              "    }\n",
              "\n",
              "    .dataframe thead th {\n",
              "        text-align: right;\n",
              "    }\n",
              "</style>\n",
              "<table border=\"1\" class=\"dataframe\">\n",
              "  <thead>\n",
              "    <tr style=\"text-align: right;\">\n",
              "      <th></th>\n",
              "      <th>Unnamed: 0</th>\n",
              "      <th>index</th>\n",
              "      <th>song</th>\n",
              "      <th>year</th>\n",
              "      <th>artist</th>\n",
              "      <th>genre</th>\n",
              "      <th>lyrics</th>\n",
              "    </tr>\n",
              "  </thead>\n",
              "  <tbody>\n",
              "    <tr>\n",
              "      <th>228</th>\n",
              "      <td>249</td>\n",
              "      <td>249</td>\n",
              "      <td>i-got-that</td>\n",
              "      <td>2007</td>\n",
              "      <td>eazy-e</td>\n",
              "      <td>Hip-Hop</td>\n",
              "      <td>horns chorus Timbo When you hit me on my phon...</td>\n",
              "    </tr>\n",
              "    <tr>\n",
              "      <th>229</th>\n",
              "      <td>250</td>\n",
              "      <td>250</td>\n",
              "      <td>8-ball-remix</td>\n",
              "      <td>2007</td>\n",
              "      <td>eazy-e</td>\n",
              "      <td>Hip-Hop</td>\n",
              "      <td>Verse 1 I don't drink brass monkey like to be ...</td>\n",
              "    </tr>\n",
              "    <tr>\n",
              "      <th>230</th>\n",
              "      <td>251</td>\n",
              "      <td>251</td>\n",
              "      <td>extra-special-thankz</td>\n",
              "      <td>2007</td>\n",
              "      <td>eazy-e</td>\n",
              "      <td>Hip-Hop</td>\n",
              "      <td>19 muthaphukkin 93 and I'm back in this bitch ...</td>\n",
              "    </tr>\n",
              "    <tr>\n",
              "      <th>231</th>\n",
              "      <td>252</td>\n",
              "      <td>252</td>\n",
              "      <td>boyz-in-da-hood</td>\n",
              "      <td>2007</td>\n",
              "      <td>eazy-e</td>\n",
              "      <td>Hip-Hop</td>\n",
              "      <td>Hey yo man remember that shit Eazy did a while...</td>\n",
              "    </tr>\n",
              "    <tr>\n",
              "      <th>232</th>\n",
              "      <td>253</td>\n",
              "      <td>253</td>\n",
              "      <td>automoblie</td>\n",
              "      <td>2007</td>\n",
              "      <td>eazy-e</td>\n",
              "      <td>Hip-Hop</td>\n",
              "      <td>Yo Dre man I take this bitch out to the movies...</td>\n",
              "    </tr>\n",
              "  </tbody>\n",
              "</table>\n",
              "</div>"
            ],
            "text/plain": [
              "     Unnamed: 0  ...                                             lyrics\n",
              "228         249  ...   horns chorus Timbo When you hit me on my phon...\n",
              "229         250  ...  Verse 1 I don't drink brass monkey like to be ...\n",
              "230         251  ...  19 muthaphukkin 93 and I'm back in this bitch ...\n",
              "231         252  ...  Hey yo man remember that shit Eazy did a while...\n",
              "232         253  ...  Yo Dre man I take this bitch out to the movies...\n",
              "\n",
              "[5 rows x 7 columns]"
            ]
          },
          "metadata": {
            "tags": []
          }
        },
        {
          "output_type": "stream",
          "text": [
            "Size of data (36812, 7)\n",
            "Size of country data (14158, 7)\n",
            "Size of hip hop data (22654, 7)\n"
          ],
          "name": "stdout"
        }
      ]
    },
    {
      "cell_type": "code",
      "metadata": {
        "id": "v0nlmYU9y390",
        "colab": {
          "base_uri": "https://localhost:8080/",
          "height": 110
        },
        "outputId": "7c1039de-5cc7-4458-a824-295582a01f7e"
      },
      "source": [
        "lyric_data = data_filter['lyrics'].values\n",
        "max_words = 30000\n",
        "df_copy = data_filter\n",
        "# Create a new Tokenizer\n",
        "tokenizer = text.Tokenizer(num_words=max_words, oov_token='<UNK>')\n",
        "# Feed song lyrics to the Tokenizer\n",
        "tokenizer.fit_on_texts(lyric_data)\n",
        "# Tokenizers come with a convenient list of words and IDs\n",
        "dictionary = tokenizer.word_index\n",
        "\n",
        "with open('dictionary.json', 'w') as dictionary_file:\n",
        "    json.dump(dictionary, dictionary_file)\n",
        "    \n",
        "tokenizer.word_index = {e:i for e,i in tokenizer.word_index.items() if i <= max_words} # because tokenizer is 1 indexed\n",
        "tokenizer.word_index[tokenizer.oov_token] = max_words + 1\n",
        "indexed_data = tokenizer.texts_to_sequences(lyric_data)\n",
        "indexed_data = np.array(indexed_data)\n",
        "\n",
        "label_encoder = skpp.LabelEncoder()\n",
        "lbl_enc = label_encoder.fit_transform(data_filter['genre'].values)\n",
        "indexed_labels = np.array(lbl_enc)\n",
        "label_encoder.inverse_transform(indexed_labels) # To get original genre text back\n",
        "label_types = (0, 1)\n",
        "genre_df = pd.DataFrame(label_types, columns = ['Label'])\n",
        "genre_df['Genre'] = label_encoder.inverse_transform(np.array([0,1]))\n",
        "display(genre_df)\n",
        "num_test = 30000\n",
        "\n",
        "# Shuffle data before splitting off test set\n",
        "random_indexes = np.random.permutation(len(indexed_labels))\n",
        "indexed_data = indexed_data[random_indexes]\n",
        "indexed_labels = indexed_labels[random_indexes]\n",
        "#print(indexed_data.shape)\n",
        "X_test = indexed_data[:-num_test]\n",
        "y_test = indexed_labels[:-num_test]\n",
        "X_train  = indexed_data[-num_test:]\n",
        "y_train  = indexed_labels[-num_test:]\n",
        "# print(X_test.shape)\n",
        "# print(X_train.shape)\n",
        "\n",
        "# display(df_copy)\n",
        "# print(df_copy.shape)\n",
        "# print(random_indexes)\n",
        "# df_c = df_copy.iloc[random_indexes]\n",
        "# df_c  = df_c.iloc[-num_test:]\n",
        "# print(df_c.shape)\n",
        "y_train = keras.utils.to_categorical(y_train)\n",
        "y_test = keras.utils.to_categorical(y_test)\n",
        "\n",
        "num_words = max_words + 2\n",
        "# Truncate and pad input sequences\n",
        "max_review_length = 1000\n",
        "\n",
        "X_train_padded = sequence.pad_sequences(X_train, maxlen=max_review_length)\n",
        "#print(X_train_padded.shape)\n",
        "X_test_padded = sequence.pad_sequences(X_test, maxlen=max_review_length)"
      ],
      "execution_count": null,
      "outputs": [
        {
          "output_type": "display_data",
          "data": {
            "text/html": [
              "<div>\n",
              "<style scoped>\n",
              "    .dataframe tbody tr th:only-of-type {\n",
              "        vertical-align: middle;\n",
              "    }\n",
              "\n",
              "    .dataframe tbody tr th {\n",
              "        vertical-align: top;\n",
              "    }\n",
              "\n",
              "    .dataframe thead th {\n",
              "        text-align: right;\n",
              "    }\n",
              "</style>\n",
              "<table border=\"1\" class=\"dataframe\">\n",
              "  <thead>\n",
              "    <tr style=\"text-align: right;\">\n",
              "      <th></th>\n",
              "      <th>Label</th>\n",
              "      <th>Genre</th>\n",
              "    </tr>\n",
              "  </thead>\n",
              "  <tbody>\n",
              "    <tr>\n",
              "      <th>0</th>\n",
              "      <td>0</td>\n",
              "      <td>Country</td>\n",
              "    </tr>\n",
              "    <tr>\n",
              "      <th>1</th>\n",
              "      <td>1</td>\n",
              "      <td>Hip-Hop</td>\n",
              "    </tr>\n",
              "  </tbody>\n",
              "</table>\n",
              "</div>"
            ],
            "text/plain": [
              "   Label    Genre\n",
              "0      0  Country\n",
              "1      1  Hip-Hop"
            ]
          },
          "metadata": {
            "tags": []
          }
        }
      ]
    },
    {
      "cell_type": "code",
      "metadata": {
        "id": "mGoYczsFztwe",
        "colab": {
          "base_uri": "https://localhost:8080/"
        },
        "outputId": "6a0d5d35-c76e-42c1-b31e-0f1422cd98da"
      },
      "source": [
        "# Hyperparameters\n",
        "embedding_vector_length = 100\n",
        "\n",
        "# Create the LSTM Vanilla model with Keras\n",
        "model = Sequential()\n",
        "model.add(Embedding(num_words, embedding_vector_length, input_length=max_review_length))\n",
        "model.add(LSTM(60, return_sequences=True))\n",
        "model.add(GlobalMaxPooling1D())\n",
        "model.add(Dense(2, activation='softmax'))\n",
        "model.compile(loss='categorical_crossentropy', optimizer='adam', metrics=['accuracy'])\n",
        "\n",
        "print(model.summary())\n",
        "\n",
        "# Train the model\n",
        "model.fit(X_train_padded, y_train, epochs=3, batch_size=64)\n",
        "\n",
        "# Final evaluation of the model on the test set\n",
        "scores = model.evaluate(X_test_padded, y_test, verbose=0)\n",
        "print(\"Accuracy: %.2f%%\" % (scores[1]*100))"
      ],
      "execution_count": null,
      "outputs": [
        {
          "output_type": "stream",
          "text": [
            "Model: \"sequential_1\"\n",
            "_________________________________________________________________\n",
            "Layer (type)                 Output Shape              Param #   \n",
            "=================================================================\n",
            "embedding_1 (Embedding)      (None, 1000, 100)         3000200   \n",
            "_________________________________________________________________\n",
            "lstm_1 (LSTM)                (None, 1000, 60)          38640     \n",
            "_________________________________________________________________\n",
            "global_max_pooling1d_1 (Glob (None, 60)                0         \n",
            "_________________________________________________________________\n",
            "dense_1 (Dense)              (None, 2)                 122       \n",
            "=================================================================\n",
            "Total params: 3,038,962\n",
            "Trainable params: 3,038,962\n",
            "Non-trainable params: 0\n",
            "_________________________________________________________________\n",
            "None\n",
            "Epoch 1/3\n",
            "469/469 [==============================] - 389s 830ms/step - loss: 0.2366 - accuracy: 0.9005\n",
            "Epoch 2/3\n",
            "469/469 [==============================] - 392s 836ms/step - loss: 0.1085 - accuracy: 0.9624\n",
            "Epoch 3/3\n",
            "469/469 [==============================] - 391s 834ms/step - loss: 0.0709 - accuracy: 0.9766\n",
            "Accuracy: 94.98%\n"
          ],
          "name": "stdout"
        }
      ]
    },
    {
      "cell_type": "code",
      "metadata": {
        "id": "VVNlsMk8qnwF"
      },
      "source": [
        "pred = model.predict(X_test_padded)"
      ],
      "execution_count": null,
      "outputs": []
    },
    {
      "cell_type": "code",
      "metadata": {
        "colab": {
          "base_uri": "https://localhost:8080/",
          "height": 299
        },
        "id": "sYwK-zK3vOsG",
        "outputId": "a19ad592-a9bf-4efe-d372-577fa5b777c2"
      },
      "source": [
        "#print(X_test_padded)\n",
        "pred_class = np.argmax(pred, axis = 1)\n",
        "y_labels = y_test.argmax(axis=1)\n",
        "\n",
        "cf_matrix = confusion_matrix(y_labels, pred_class)\n",
        "ax1 = plt.axes()\n",
        "sns.heatmap(cf_matrix/np.sum(cf_matrix), ax = ax1, annot=True, \n",
        "            fmt='.2%', xticklabels = [\"Country\", \"Hip-Hop\" ],  yticklabels = [\"Country\", \"Hip-Hop\" ])\n",
        "ax1.set_title(\"LSTM Model: Percentage Confusion Matrix\")\n"
      ],
      "execution_count": null,
      "outputs": [
        {
          "output_type": "execute_result",
          "data": {
            "text/plain": [
              "Text(0.5, 1.0, 'LSTM Model: Percentage Confusion Matrix')"
            ]
          },
          "metadata": {
            "tags": []
          },
          "execution_count": 30
        },
        {
          "output_type": "display_data",
          "data": {
            "image/png": "[encoded data removed]",
            "text/plain": [
              "<Figure size 432x288 with 2 Axes>"
            ]
          },
          "metadata": {
            "tags": [],
            "needs_background": "light"
          }
        }
      ]
    },
    {
      "cell_type": "code",
      "metadata": {
        "id": "Rw_hy0L2yW-F"
      },
      "source": [
        ""
      ],
      "execution_count": null,
      "outputs": []
    },
    {
      "cell_type": "code",
      "metadata": {
        "id": "NAxkeZkY_zLT",
        "colab": {
          "base_uri": "https://localhost:8080/"
        },
        "outputId": "2f481dae-8386-47e4-d950-f3b9cdbf0b50"
      },
      "source": [
        "#take as input a sentence\n",
        "#output = label, percentage score of hip hop vs country\n",
        "txt = [\"Snap back to reality, ope there goes gravity\"]\n",
        "txt =[\"But you're untouchable, burning brighter than the sun\"]\n",
        "txt = [\"Romeo, take me somewhere we can be alone\" , \"But you're untouchable, burning brighter than the sun\"]\n",
        "txt = [\"Flirtacious, tryin' to show patience\"]\n",
        "#tokenizer.texts_to_sequences(numpy_data)\n",
        "\n",
        "prediction = model.predict(np.array(tokenizer.texts_to_sequences(txt)))\n",
        "print(prediction)\n",
        "\n",
        "\n",
        "\n"
      ],
      "execution_count": null,
      "outputs": [
        {
          "output_type": "stream",
          "text": [
            "WARNING:tensorflow:Model was constructed with shape (None, 1000) for input Tensor(\"embedding_1_input:0\", shape=(None, 1000), dtype=float32), but it was called on an input with incompatible shape (None, 5).\n",
            "[[0.5731103  0.42688975]]\n"
          ],
          "name": "stdout"
        }
      ]
    },
    {
      "cell_type": "code",
      "metadata": {
        "colab": {
          "base_uri": "https://localhost:8080/",
          "height": 1000
        },
        "id": "B25WGQRMNdXC",
        "outputId": "62b71e93-52a0-4201-8f38-590549faa22a"
      },
      "source": [
        "#use generated lyrics from text generation model\n",
        "gen_lyrics = pd.read_csv(\"dataset/generated_lyrics.csv\")\n",
        "gen_lyrics.head()\n",
        "lyr = gen_lyrics['Lyric Generated'].tolist()\n",
        "display(gen_lyrics)\n",
        "lyr = np.array(lyr)\n",
        "text = tokenizer.texts_to_sequences(lyr)\n",
        "#print(text)\n",
        "t = np.array(text)\n",
        "test = sequence.pad_sequences(t, maxlen=max_review_length)\n",
        "#predict genre probability\n",
        "p = model.predict(test)\n",
        "#print(p)\n",
        "pred_label = np.argmax(p, axis = 1)\n",
        "c_values = p[:,0]\n",
        "#print(c_values)\n",
        "h_values = p[:,1]\n",
        "#print(h_values)\n",
        "#print(pred_class)\n",
        "values = [\"country\", \"rap\"]\n",
        "conditions = [\n",
        "    (pred_label == 0),\n",
        "    (pred_label== 1)]\n",
        "gen_lyrics[\"Predicted_Genre\"] = np.select(conditions, values)\n",
        "gen_lyrics[\"Country Probability\"] = c_values\n",
        "gen_lyrics[\"Hip-Hop Probability\"] = h_values\n",
        "\n",
        "display(gen_lyrics)\n",
        "gen_lyrics.to_csv('dataset/lyrics_genre.csv')"
      ],
      "execution_count": null,
      "outputs": [
        {
          "output_type": "display_data",
          "data": {
            "text/html": [
              "<div>\n",
              "<style scoped>\n",
              "    .dataframe tbody tr th:only-of-type {\n",
              "        vertical-align: middle;\n",
              "    }\n",
              "\n",
              "    .dataframe tbody tr th {\n",
              "        vertical-align: top;\n",
              "    }\n",
              "\n",
              "    .dataframe thead th {\n",
              "        text-align: right;\n",
              "    }\n",
              "</style>\n",
              "<table border=\"1\" class=\"dataframe\">\n",
              "  <thead>\n",
              "    <tr style=\"text-align: right;\">\n",
              "      <th></th>\n",
              "      <th>Unnamed: 0</th>\n",
              "      <th>Lyric Generated</th>\n",
              "      <th>Genre</th>\n",
              "    </tr>\n",
              "  </thead>\n",
              "  <tbody>\n",
              "    <tr>\n",
              "      <th>0</th>\n",
              "      <td>0</td>\n",
              "      <td>outro</td>\n",
              "      <td>rap</td>\n",
              "    </tr>\n",
              "    <tr>\n",
              "      <th>1</th>\n",
              "      <td>1</td>\n",
              "      <td>outro</td>\n",
              "      <td>rap</td>\n",
              "    </tr>\n",
              "    <tr>\n",
              "      <th>2</th>\n",
              "      <td>2</td>\n",
              "      <td>im gone of love with love</td>\n",
              "      <td>rap</td>\n",
              "    </tr>\n",
              "    <tr>\n",
              "      <th>3</th>\n",
              "      <td>3</td>\n",
              "      <td>outro</td>\n",
              "      <td>rap</td>\n",
              "    </tr>\n",
              "    <tr>\n",
              "      <th>4</th>\n",
              "      <td>4</td>\n",
              "      <td>outro megan malone</td>\n",
              "      <td>rap</td>\n",
              "    </tr>\n",
              "    <tr>\n",
              "      <th>...</th>\n",
              "      <td>...</td>\n",
              "      <td>...</td>\n",
              "      <td>...</td>\n",
              "    </tr>\n",
              "    <tr>\n",
              "      <th>125</th>\n",
              "      <td>60</td>\n",
              "      <td>yes in in my only cold your cant in in</td>\n",
              "      <td>country</td>\n",
              "    </tr>\n",
              "    <tr>\n",
              "      <th>126</th>\n",
              "      <td>61</td>\n",
              "      <td>yes please leave young who im be day what you ...</td>\n",
              "      <td>country</td>\n",
              "    </tr>\n",
              "    <tr>\n",
              "      <th>127</th>\n",
              "      <td>62</td>\n",
              "      <td>yes outro megan scott do</td>\n",
              "      <td>country</td>\n",
              "    </tr>\n",
              "    <tr>\n",
              "      <th>128</th>\n",
              "      <td>63</td>\n",
              "      <td>yes watchin wear about too stefani</td>\n",
              "      <td>country</td>\n",
              "    </tr>\n",
              "    <tr>\n",
              "      <th>129</th>\n",
              "      <td>64</td>\n",
              "      <td>yes real keep what can be here like gonna yeah</td>\n",
              "      <td>country</td>\n",
              "    </tr>\n",
              "  </tbody>\n",
              "</table>\n",
              "<p>130 rows × 3 columns</p>\n",
              "</div>"
            ],
            "text/plain": [
              "     Unnamed: 0                                    Lyric Generated    Genre\n",
              "0             0                                             outro       rap\n",
              "1             1                                             outro       rap\n",
              "2             2                         im gone of love with love       rap\n",
              "3             3                                             outro       rap\n",
              "4             4                                outro megan malone       rap\n",
              "..          ...                                                ...      ...\n",
              "125          60            yes in in my only cold your cant in in   country\n",
              "126          61  yes please leave young who im be day what you ...  country\n",
              "127          62                          yes outro megan scott do   country\n",
              "128          63                yes watchin wear about too stefani   country\n",
              "129          64    yes real keep what can be here like gonna yeah   country\n",
              "\n",
              "[130 rows x 3 columns]"
            ]
          },
          "metadata": {
            "tags": []
          }
        },
        {
          "output_type": "display_data",
          "data": {
            "text/html": [
              "<div>\n",
              "<style scoped>\n",
              "    .dataframe tbody tr th:only-of-type {\n",
              "        vertical-align: middle;\n",
              "    }\n",
              "\n",
              "    .dataframe tbody tr th {\n",
              "        vertical-align: top;\n",
              "    }\n",
              "\n",
              "    .dataframe thead th {\n",
              "        text-align: right;\n",
              "    }\n",
              "</style>\n",
              "<table border=\"1\" class=\"dataframe\">\n",
              "  <thead>\n",
              "    <tr style=\"text-align: right;\">\n",
              "      <th></th>\n",
              "      <th>Unnamed: 0</th>\n",
              "      <th>Lyric Generated</th>\n",
              "      <th>Genre</th>\n",
              "      <th>Predicted_Genre</th>\n",
              "      <th>Country Probability</th>\n",
              "      <th>Hip-Hop Probability</th>\n",
              "    </tr>\n",
              "  </thead>\n",
              "  <tbody>\n",
              "    <tr>\n",
              "      <th>0</th>\n",
              "      <td>0</td>\n",
              "      <td>outro</td>\n",
              "      <td>rap</td>\n",
              "      <td>country</td>\n",
              "      <td>0.587916</td>\n",
              "      <td>0.412084</td>\n",
              "    </tr>\n",
              "    <tr>\n",
              "      <th>1</th>\n",
              "      <td>1</td>\n",
              "      <td>outro</td>\n",
              "      <td>rap</td>\n",
              "      <td>country</td>\n",
              "      <td>0.587916</td>\n",
              "      <td>0.412084</td>\n",
              "    </tr>\n",
              "    <tr>\n",
              "      <th>2</th>\n",
              "      <td>2</td>\n",
              "      <td>im gone of love with love</td>\n",
              "      <td>rap</td>\n",
              "      <td>country</td>\n",
              "      <td>0.567778</td>\n",
              "      <td>0.432222</td>\n",
              "    </tr>\n",
              "    <tr>\n",
              "      <th>3</th>\n",
              "      <td>3</td>\n",
              "      <td>outro</td>\n",
              "      <td>rap</td>\n",
              "      <td>country</td>\n",
              "      <td>0.587916</td>\n",
              "      <td>0.412084</td>\n",
              "    </tr>\n",
              "    <tr>\n",
              "      <th>4</th>\n",
              "      <td>4</td>\n",
              "      <td>outro megan malone</td>\n",
              "      <td>rap</td>\n",
              "      <td>country</td>\n",
              "      <td>0.625910</td>\n",
              "      <td>0.374090</td>\n",
              "    </tr>\n",
              "    <tr>\n",
              "      <th>...</th>\n",
              "      <td>...</td>\n",
              "      <td>...</td>\n",
              "      <td>...</td>\n",
              "      <td>...</td>\n",
              "      <td>...</td>\n",
              "      <td>...</td>\n",
              "    </tr>\n",
              "    <tr>\n",
              "      <th>125</th>\n",
              "      <td>60</td>\n",
              "      <td>yes in in my only cold your cant in in</td>\n",
              "      <td>country</td>\n",
              "      <td>country</td>\n",
              "      <td>0.652883</td>\n",
              "      <td>0.347117</td>\n",
              "    </tr>\n",
              "    <tr>\n",
              "      <th>126</th>\n",
              "      <td>61</td>\n",
              "      <td>yes please leave young who im be day what you ...</td>\n",
              "      <td>country</td>\n",
              "      <td>country</td>\n",
              "      <td>0.600149</td>\n",
              "      <td>0.399851</td>\n",
              "    </tr>\n",
              "    <tr>\n",
              "      <th>127</th>\n",
              "      <td>62</td>\n",
              "      <td>yes outro megan scott do</td>\n",
              "      <td>country</td>\n",
              "      <td>country</td>\n",
              "      <td>0.533970</td>\n",
              "      <td>0.466030</td>\n",
              "    </tr>\n",
              "    <tr>\n",
              "      <th>128</th>\n",
              "      <td>63</td>\n",
              "      <td>yes watchin wear about too stefani</td>\n",
              "      <td>country</td>\n",
              "      <td>country</td>\n",
              "      <td>0.598678</td>\n",
              "      <td>0.401322</td>\n",
              "    </tr>\n",
              "    <tr>\n",
              "      <th>129</th>\n",
              "      <td>64</td>\n",
              "      <td>yes real keep what can be here like gonna yeah</td>\n",
              "      <td>country</td>\n",
              "      <td>country</td>\n",
              "      <td>0.507026</td>\n",
              "      <td>0.492974</td>\n",
              "    </tr>\n",
              "  </tbody>\n",
              "</table>\n",
              "<p>130 rows × 6 columns</p>\n",
              "</div>"
            ],
            "text/plain": [
              "     Unnamed: 0  ... Hip-Hop Probability\n",
              "0             0  ...            0.412084\n",
              "1             1  ...            0.412084\n",
              "2             2  ...            0.432222\n",
              "3             3  ...            0.412084\n",
              "4             4  ...            0.374090\n",
              "..          ...  ...                 ...\n",
              "125          60  ...            0.347117\n",
              "126          61  ...            0.399851\n",
              "127          62  ...            0.466030\n",
              "128          63  ...            0.401322\n",
              "129          64  ...            0.492974\n",
              "\n",
              "[130 rows x 6 columns]"
            ]
          },
          "metadata": {
            "tags": []
          }
        }
      ]
    },
    {
      "cell_type": "code",
      "metadata": {
        "colab": {
          "base_uri": "https://localhost:8080/",
          "height": 319
        },
        "id": "B0NEyZ5dyZhl",
        "outputId": "1124281d-36dc-4f66-866e-3a0d06c3a78e"
      },
      "source": [
        "\n",
        "cf_matrix = confusion_matrix(gen_lyrics[\"Genre\"].values, gen_lyrics[\"Predicted_Genre\"].values)\n",
        "ax1 = plt.axes()\n",
        "sns.heatmap(cf_matrix/np.sum(cf_matrix), ax = ax1, annot=True, \n",
        "            fmt='.2%', xticklabels = [\"Country\", \"Hip-Hop\" ],  yticklabels = [\"Country\", \"Hip-Hop\" ])\n",
        "ax1.set_title(\"LSTM Model on Newly Generated Lyrics: Percentage Confusion Matrix\")"
      ],
      "execution_count": null,
      "outputs": [
        {
          "output_type": "execute_result",
          "data": {
            "text/plain": [
              "Text(0.5, 1.0, 'LSTM Model on Newly Generated Lyrics: Percentage Confusion Matrix')"
            ]
          },
          "metadata": {
            "tags": []
          },
          "execution_count": 36
        },
        {
          "output_type": "display_data",
          "data": {
            "image/png": "[encoded data removed]",
            "text/plain": [
              "<Figure size 432x288 with 2 Axes>"
            ]
          },
          "metadata": {
            "tags": [],
            "needs_background": "light"
          }
        }
      ]
    }
  ]
}